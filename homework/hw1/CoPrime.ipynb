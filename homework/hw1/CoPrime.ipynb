{
 "cells": [
  {
   "cell_type": "code",
   "execution_count": 5,
   "metadata": {},
   "outputs": [],
   "source": [
    "'''\n",
    "    CoPrime.py\n",
    "\n",
    "    Generates a graph of the m x n co-primes\n",
    "    \n",
    "    [YOUR NAME GOES HERE]\n",
    "'''\n",
    "\n",
    "import sys\n",
    "\n",
    "'''\n",
    "generates the co-primes in an m x n matrix\n",
    "'''\n",
    "def coprimes(m, n):\n",
    "    '''\n",
    "    creates a list of size n each with\n",
    "    each element initialized to None\n",
    "    '''\n",
    "    result = [None] * (m + 1)\n",
    "\n",
    "    '''\n",
    "    each element in the list is now a\n",
    "    list of size m where each value\n",
    "    is initialized to a space ' '\n",
    "    '''\n",
    "    for i in range(0,m+1):\n",
    "        result[i] = ['^'] * (n + 1)\n",
    "        \n",
    "    '''\n",
    "    output the contents of result\n",
    "    '''\n",
    "    for x in result:\n",
    "        # x[:] is a list \"slice\"\n",
    "        for y in x[:]:\n",
    "            '''\n",
    "            by putting a comma at the end, we prevent a newline\n",
    "            '''\n",
    "            print y,\n",
    "            \n",
    "        print\n",
    "\n",
    "    '''\n",
    "        YOUR WORK WILL GO HERE\n",
    "    '''\n",
    "\n",
    "\n",
    "# behaves like main() method\n",
    "\n",
    "if __name__ == \"__main__\":\n",
    "    \n",
    "    number1=15\n",
    "    number2=15\n",
    "    \n",
    "    coprimes(number1, number2)\n"
   ]
  },
  {
   "cell_type": "code",
   "execution_count": null,
   "metadata": {
    "collapsed": true
   },
   "outputs": [],
   "source": []
  }
 ],
 "metadata": {
  "kernelspec": {
   "display_name": "Python 2",
   "language": "python",
   "name": "python2"
  },
  "language_info": {
   "codemirror_mode": {
    "name": "ipython",
    "version": 2
   },
   "file_extension": ".py",
   "mimetype": "text/x-python",
   "name": "python",
   "nbconvert_exporter": "python",
   "pygments_lexer": "ipython2",
   "version": "2.7.13"
  }
 },
 "nbformat": 4,
 "nbformat_minor": 2
}
