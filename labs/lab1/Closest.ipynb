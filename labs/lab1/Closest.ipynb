{
 "cells": [
  {
   "cell_type": "code",
   "execution_count": 2,
   "metadata": {
    "collapsed": false
   },
   "outputs": [
    {
     "name": "stdout",
     "output_type": "stream",
     "text": [
      "The closest numbers are -100 and 100\n"
     ]
    }
   ],
   "source": [
    "'''\n",
    "Closest pair problem\n",
    "\n",
    "This returns the closest pair of numbers.\n",
    "\n",
    "Usage:\n",
    "    \n",
    "    python closest_pair.py [size of list of numbers]\n",
    "\n",
    "[YOUR NAME GOES HERE.]\n",
    "\n",
    "[THE DATE GOES HERE.]\n",
    "'''\n",
    "\n",
    "import random\n",
    "import sys\n",
    "\n",
    "'''\n",
    "return the distance between two parameters\n",
    "'''\n",
    "def distance(a,b):\n",
    "    return abs(a-b)\n",
    "\n",
    "\n",
    "'''\n",
    "populate the array with listSize unique random numbers between 1 ... 5000\n",
    "'''\n",
    "def populate(listSize):\n",
    "    a = []\n",
    "    count = 0\n",
    "\n",
    "    while count < listSize:\n",
    "        number = random.randint(1,5000)\n",
    "        if number in a:\n",
    "            continue\n",
    "        else:\n",
    "            a.append(number)\n",
    "            count += 1\n",
    "\n",
    "    return a\n",
    "\n",
    "'''\n",
    "now determine the closest pair\n",
    "using brute force algorithm\n",
    "'''\n",
    "def closest_pair(values):\n",
    "    pt_a = -100\n",
    "    pt_b = 100\n",
    "\n",
    "    return (pt_a, pt_b)\n",
    "\n",
    "'''\n",
    "This behaves just like the Java main() method\n",
    "'''\n",
    "if __name__ == '__main__':\n",
    "    \n",
    "    numbers = 4\n",
    "    \n",
    "    closest = closest_pair(numbers)\n",
    "    print 'The closest numbers are', closest[0], 'and', closest[1]\n"
   ]
  },
  {
   "cell_type": "code",
   "execution_count": 3,
   "metadata": {
    "collapsed": false
   },
   "outputs": [
    {
     "name": "stderr",
     "output_type": "stream",
     "text": [
      "F\n",
      "======================================================================\n",
      "FAIL: testClosest (__main__.Test)\n",
      "----------------------------------------------------------------------\n",
      "Traceback (most recent call last):\n",
      "  File \"<ipython-input-3-d2d46bb261be>\", line 16, in testClosest\n",
      "    self.assertEquals(expected,actual)\n",
      "AssertionError: Tuples differ: (-13, -14) != (-100, 100)\n",
      "\n",
      "First differing element 0:\n",
      "-13\n",
      "-100\n",
      "\n",
      "- (-13, -14)\n",
      "+ (-100, 100)\n",
      "\n",
      "----------------------------------------------------------------------\n",
      "Ran 1 test in 0.007s\n",
      "\n",
      "FAILED (failures=1)\n"
     ]
    }
   ],
   "source": [
    "'''\n",
    "testing\n",
    "'''\n",
    "import unittest\n",
    "\n",
    "class Test(unittest.TestCase):\n",
    "\n",
    "\n",
    "    def testClosest(self):\n",
    "        # test v1\n",
    "        expected = (-13, -14)\n",
    "        actual = closest_pair([-13, 5, 18, 7, -14, 21])\n",
    "        \n",
    "        self.assertEquals(expected,actual)\n",
    "        \n",
    "        # test v2\n",
    "        expected = (21, 21)\n",
    "        actual = closest_pair([21, 5, 18, 7, -14, 21])\n",
    "        \n",
    "        self.assertEquals(expected,actual)\n",
    "\n",
    "if __name__ == \"__main__\":\n",
    "    #import sys;sys.argv = ['', 'Test.testName']\n",
    "    unittest.main(argv=['first-arg-is-ignored'], exit=False)\n"
   ]
  }
 ],
 "metadata": {
  "kernelspec": {
   "display_name": "Python [Root]",
   "language": "python",
   "name": "Python [Root]"
  },
  "language_info": {
   "codemirror_mode": {
    "name": "ipython",
    "version": 2
   },
   "file_extension": ".py",
   "mimetype": "text/x-python",
   "name": "python",
   "nbconvert_exporter": "python",
   "pygments_lexer": "ipython2",
   "version": "2.7.12"
  }
 },
 "nbformat": 4,
 "nbformat_minor": 0
}
