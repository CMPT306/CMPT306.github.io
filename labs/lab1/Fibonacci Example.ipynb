{
 "cells": [
  {
   "cell_type": "code",
   "execution_count": 2,
   "metadata": {
    "collapsed": true
   },
   "outputs": [],
   "source": [
    "'''\n",
    "Generate the fibonacci sequence of specified size\n",
    "\n",
    "This version has errors that are to be detected using unit tests\n",
    "'''\n",
    "def fibonacci(size):\n",
    "    # creates an empty list\n",
    "    sequence = []\n",
    "    \n",
    "    if size == 0:\n",
    "        pass\n",
    "    else:\n",
    "        # add the first two values to the list\n",
    "        sequence.append(0)\n",
    "        sequence.append(1)\n",
    "        count = 2\n",
    "        \n",
    "        while count < size:\n",
    "            sequence.append(sequence[count-1] + sequence[count-2])\n",
    "            count += 1\n",
    "            \n",
    "    return sequence"
   ]
  },
  {
   "cell_type": "code",
   "execution_count": 3,
   "metadata": {
    "collapsed": false
   },
   "outputs": [
    {
     "name": "stderr",
     "output_type": "stream",
     "text": [
      "F\n",
      "======================================================================\n",
      "FAIL: testFib (__main__.Test)\n",
      "----------------------------------------------------------------------\n",
      "Traceback (most recent call last):\n",
      "  File \"<ipython-input-3-4d64b9390a81>\", line 17, in testFib\n",
      "    self.assertEquals(sequence,fibonacci(1))\n",
      "AssertionError: Lists differ: [0] != [0, 1]\n",
      "\n",
      "Second list contains 1 additional elements.\n",
      "First extra element 1:\n",
      "1\n",
      "\n",
      "- [0]\n",
      "+ [0, 1]\n",
      "\n",
      "----------------------------------------------------------------------\n",
      "Ran 1 test in 0.002s\n",
      "\n",
      "FAILED (failures=1)\n"
     ]
    }
   ],
   "source": [
    "'''\n",
    "testing \n",
    "'''\n",
    "\n",
    "import unittest\n",
    "\n",
    "class Test(unittest.TestCase):\n",
    "\n",
    "\n",
    "    def testFib(self):\n",
    "        # sequence of size 0\n",
    "        sequence = []\n",
    "        self.assertEquals(sequence,fibonacci(0))\n",
    "        \n",
    "        # sequence of size 1\n",
    "        sequence = [0]     \n",
    "        self.assertEquals(sequence,fibonacci(1))\n",
    "        \n",
    "        # sequence of size 2\n",
    "        sequence = [0,1]\n",
    "        self.assertEquals(sequence,fibonacci(2))\n",
    "        \n",
    "        # sequence of size > 2\n",
    "        sequence = [0,1,1,2,3,5]\n",
    "        self.assertEquals(sequence,fibonacci(6))\n",
    "\n",
    "if __name__ == \"__main__\":\n",
    "    unittest.main(argv=['first-arg-is-ignored'], exit=False)"
   ]
  }
 ],
 "metadata": {
  "anaconda-cloud": {},
  "kernelspec": {
   "display_name": "Python [Root]",
   "language": "python",
   "name": "Python [Root]"
  },
  "language_info": {
   "codemirror_mode": {
    "name": "ipython",
    "version": 2
   },
   "file_extension": ".py",
   "mimetype": "text/x-python",
   "name": "python",
   "nbconvert_exporter": "python",
   "pygments_lexer": "ipython2",
   "version": "2.7.12"
  }
 },
 "nbformat": 4,
 "nbformat_minor": 0
}
