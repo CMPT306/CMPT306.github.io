{
 "cells": [
  {
   "cell_type": "code",
   "execution_count": 1,
   "metadata": {},
   "outputs": [
    {
     "name": "stdout",
     "output_type": "stream",
     "text": [
      "Please input a number:0\n",
      "None\n"
     ]
    }
   ],
   "source": [
    "'''\n",
    "MinimalChange.py\n",
    "\n",
    "Implementation of minimal change algorithm \n",
    "for generating permutations.\n",
    "\n",
    "[ YOUR NAME GOES HERE]\n",
    "\n",
    "\n",
    "Generates an *unordered* list of tuples containing \n",
    "permutations of the list of values.\n",
    "\n",
    "For example, if values = [1,2,3]\n",
    "this will return:\n",
    "[ (1,2,3), (1,3,2), (3,1,2), (3,2,1), (2,3,1), (2,1,3) ]\n",
    "\n",
    "'''\n",
    "\n",
    "import sys\n",
    "\n",
    "def permutate(value):\n",
    "\n",
    "    pass\n",
    "\n",
    "if __name__ == \"__main__\":\n",
    "    \n",
    "    n = raw_input(\"Please input a number:\")\n",
    "\n",
    "    result = permutate(int(n))\n",
    "\n",
    "    print result\n"
   ]
  },
  {
   "cell_type": "code",
   "execution_count": null,
   "metadata": {
    "collapsed": true
   },
   "outputs": [],
   "source": []
  }
 ],
 "metadata": {
  "kernelspec": {
   "display_name": "Python 2",
   "language": "python",
   "name": "python2"
  },
  "language_info": {
   "codemirror_mode": {
    "name": "ipython",
    "version": 2
   },
   "file_extension": ".py",
   "mimetype": "text/x-python",
   "name": "python",
   "nbconvert_exporter": "python",
   "pygments_lexer": "ipython2",
   "version": "2.7.13"
  }
 },
 "nbformat": 4,
 "nbformat_minor": 2
}
