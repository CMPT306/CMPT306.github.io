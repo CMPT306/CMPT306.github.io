{
 "cells": [
  {
   "cell_type": "code",
   "execution_count": 35,
   "metadata": {},
   "outputs": [
    {
     "name": "stdout",
     "output_type": "stream",
     "text": [
      "None\n",
      "None\n",
      "None\n",
      "None\n",
      "None\n"
     ]
    }
   ],
   "source": [
    "##%%writefile lab10.py\n",
    "def changemaking(d,n):\n",
    "    pass\n",
    "        \n",
    "def climbStairs(n):\n",
    "    pass\n",
    "\n",
    "def rolldice(N,M):\n",
    "    pass\n",
    "    \n",
    "# Question 1\n",
    "d=[1,3,4,5,6]\n",
    "n=10\n",
    "print changemaking(d,n)\n",
    "\n",
    "# Question 2\n",
    "print climbStairs(30)\n",
    "\n",
    "# Question 3\n",
    "print rolldice(2,7)\n",
    "print rolldice(3,9)\n",
    "print rolldice(8,24)"
   ]
  },
  {
   "cell_type": "code",
   "execution_count": null,
   "metadata": {
    "collapsed": true
   },
   "outputs": [],
   "source": []
  }
 ],
 "metadata": {
  "kernelspec": {
   "display_name": "Python 2",
   "language": "python",
   "name": "python2"
  },
  "language_info": {
   "codemirror_mode": {
    "name": "ipython",
    "version": 2
   },
   "file_extension": ".py",
   "mimetype": "text/x-python",
   "name": "python",
   "nbconvert_exporter": "python",
   "pygments_lexer": "ipython2",
   "version": "2.7.13"
  }
 },
 "nbformat": 4,
 "nbformat_minor": 2
}
