{
 "cells": [
  {
   "cell_type": "code",
   "execution_count": 34,
   "metadata": {},
   "outputs": [
    {
     "name": "stdout",
     "output_type": "stream",
     "text": [
      "    *\n",
      "   * *\n",
      "  * * *\n",
      " * * * *\n",
      "* * o * *\n"
     ]
    }
   ],
   "source": [
    "#%%writefile lab9.py\n",
    "class board:\n",
    "    \n",
    "    def __init__(self, row_of_hole, col_of_hole):\n",
    "        self.size = 5\n",
    "        self.posHole = [row_of_hole, col_of_hole]\n",
    "        # 1 is peg. 0 is hole.\n",
    "        # For example, this is one board: [[1], [1, 1], [1, 1, 1], [1, 1, 1, 1], [1, 1, 0, 1, 1]]\n",
    "        self.board = [[1 for j in range(i+1)] for i in range(self.size)]\n",
    "        self.board[self.posHole[0]][self.posHole[1]] = 0\n",
    "            \n",
    "    def drawBoard(self):\n",
    "        for i in range(self.size):\n",
    "            for j in range(self.size-i-1):\n",
    "                print '',\n",
    "            for j in self.board[i]:\n",
    "                if j == 1:\n",
    "                    print '*',\n",
    "                else:\n",
    "                    print 'o',\n",
    "            print \n",
    "        \n",
    "    def success(self):\n",
    "        for i in self.board:\n",
    "            for j in i:\n",
    "                if j:\n",
    "                    return False\n",
    "        return True\n",
    "        \n",
    "    def solve(self):\n",
    "        if self.success():\n",
    "            return\n",
    "        # your code goes here\n",
    "\n",
    "                \n",
    "                \n",
    "    \n",
    "    \n",
    "    \n",
    "b = board(4,2)\n",
    "b.drawBoard()\n",
    "                \n",
    "        \n",
    "    \n"
   ]
  },
  {
   "cell_type": "code",
   "execution_count": null,
   "metadata": {
    "collapsed": true
   },
   "outputs": [],
   "source": []
  }
 ],
 "metadata": {
  "kernelspec": {
   "display_name": "Python 2",
   "language": "python",
   "name": "python2"
  },
  "language_info": {
   "codemirror_mode": {
    "name": "ipython",
    "version": 2
   },
   "file_extension": ".py",
   "mimetype": "text/x-python",
   "name": "python",
   "nbconvert_exporter": "python",
   "pygments_lexer": "ipython2",
   "version": "2.7.13"
  }
 },
 "nbformat": 4,
 "nbformat_minor": 2
}
