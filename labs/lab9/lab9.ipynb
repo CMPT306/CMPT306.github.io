{
 "cells": [
  {
   "cell_type": "code",
   "execution_count": 15,
   "metadata": {},
   "outputs": [
    {
     "name": "stdout",
     "output_type": "stream",
     "text": [
      "Overwriting lab9.py\n"
     ]
    }
   ],
   "source": [
    "from copy import deepcopy as copy\n",
    "import numpy as np\n",
    "\n",
    "class linkedlist():\n",
    "    def __init__(self, board):\n",
    "        self.val = copy(board)\n",
    "        self.child = None # jump to this child from current board\n",
    "        self.jumpfrom = None\n",
    "        self.jumpto = None\n",
    "        \n",
    "class board:\n",
    "    def __init__(self, row_of_hole, col_of_hole):\n",
    "        self.size = 5\n",
    "        self.HolePos = [row_of_hole, col_of_hole]\n",
    "        # 1 is peg. 0 is hole.\n",
    "        self.board = [[1 for j in range(i+1)] for i in range(self.size)]\n",
    "        self.board[row_of_hole][col_of_hole] = 0\n",
    "        self.start = linkedlist(self.board)\n",
    "        self.current = self.start\n",
    "            \n",
    "    def drawBoard(self, board):\n",
    "        for i in range(self.size):\n",
    "            for j in range(self.size-i-1):\n",
    "                print '',\n",
    "            for j in board[i]:\n",
    "                if j == 1:\n",
    "                    print '+',\n",
    "                else:\n",
    "                    print 'o',\n",
    "            print \n",
    "        \n",
    "    def success(self):\n",
    "        tmp = sum([sum(i) for i in self.board])\n",
    "        if tmp==1:\n",
    "            return True\n",
    "        return False\n",
    "    \n",
    "    def printSolution(self):\n",
    "        if self.success():\n",
    "            self.current = self.start\n",
    "            while self.current.child:\n",
    "                self.drawBoard(self.current.val)\n",
    "                print self.current.jumpfrom, \"to \", self.current.jumpto\n",
    "                self.current = self.current.child\n",
    "            self.drawBoard(self.current.val)\n",
    "        else:\n",
    "            print \"No solution has been found yet!\" \n",
    "        \n",
    "    def solve(self):\n",
    "        if self.success():\n",
    "            return True\n",
    "        \n",
    "        # loop over all positions to find next available position to jump one peg\n",
    "        # check six directions for each position: left, right, top-left, top-right, bottom-left, bottom-right        \n",
    "        \n",
    "            # if one peg can be jumped from this position:\n",
    "                # update self.board and .child, .jumpfrom, .jumpto of current parent node\n",
    "\n",
    "                # recursively call self.solve()\n",
    "                    # return true if it finds one solution\n",
    "\n",
    "                # withdraw the previous updating if it does not find one solution\n",
    "\n",
    "                # return false if no available position on current board\n",
    "        \n",
    "\n",
    "startHoleRow, startHoleCol = np.inf, np.inf\n",
    "while startHoleRow > 4:\n",
    "    startHoleRow = int(raw_input(\"Please input row of the hole (<=4):\"))\n",
    "while startHoleCol > startHoleRow:\n",
    "    startHoleCol = int(raw_input(\"Please input column of the hole (<=row):\"))\n",
    "    \n",
    "game=board(startHoleRow, startHoleCol)\n",
    "game.solve()\n",
    "game.printSolution()\n",
    "        \n",
    "    \n"
   ]
  },
  {
   "cell_type": "code",
   "execution_count": null,
   "metadata": {
    "collapsed": true
   },
   "outputs": [],
   "source": []
  }
 ],
 "metadata": {
  "kernelspec": {
   "display_name": "Python 2",
   "language": "python",
   "name": "python2"
  },
  "language_info": {
   "codemirror_mode": {
    "name": "ipython",
    "version": 2
   },
   "file_extension": ".py",
   "mimetype": "text/x-python",
   "name": "python",
   "nbconvert_exporter": "python",
   "pygments_lexer": "ipython2",
   "version": "2.7.13"
  }
 },
 "nbformat": 4,
 "nbformat_minor": 2
}
