{
 "cells": [
  {
   "cell_type": "code",
   "execution_count": null,
   "metadata": {},
   "outputs": [],
   "source": [
    "'''\n",
    "Hangman.py\n",
    "'''\n",
    "\n",
    "import sys\n",
    "import random\n",
    "\n",
    "class Hangman:\n",
    "    '''\n",
    "    Initializes the words list\n",
    "    '''\n",
    "    def __init__(self):\n",
    "        file = open('words.txt','r')\n",
    "        self.words = []\n",
    "        self.wordguess = []\n",
    "        for line in file:\n",
    "            self.words.append(line.rstrip())\n",
    "\n",
    "    '''\n",
    "    Outputs the current status of the guesses\n",
    "    '''\n",
    "    def printword(self):\n",
    "        for c in self.wordguess:\n",
    "            print c,\n",
    "        print\n",
    "\n",
    "    def playgame(self):\n",
    "        # generate random word\n",
    "        word = self.words[random.randint(0,len(self.words)-1)]\n",
    "        #print word\n",
    "        self.wordguess = ['_'] * len(word)\n",
    "\n",
    "        guesses = 0\n",
    "        \n",
    "        while guesses < 10:\n",
    "            ch = raw_input('Enter a guess:').lower()\n",
    "            \n",
    "            ### Your code goes here:###\n",
    "            \n",
    "\n",
    "if __name__ == \"__main__\":\n",
    "\n",
    "    game = Hangman()\n",
    "\n",
    "    game.playgame()\n"
   ]
  },
  {
   "cell_type": "code",
   "execution_count": null,
   "metadata": {
    "collapsed": true
   },
   "outputs": [],
   "source": []
  }
 ],
 "metadata": {
  "kernelspec": {
   "display_name": "Python 2",
   "language": "python",
   "name": "python2"
  },
  "language_info": {
   "codemirror_mode": {
    "name": "ipython",
    "version": 2
   },
   "file_extension": ".py",
   "mimetype": "text/x-python",
   "name": "python",
   "nbconvert_exporter": "python",
   "pygments_lexer": "ipython2",
   "version": "2.7.13"
  }
 },
 "nbformat": 4,
 "nbformat_minor": 2
}
